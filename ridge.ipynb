{
  "nbformat": 4,
  "nbformat_minor": 0,
  "metadata": {
    "colab": {
      "name": "ridge.ipynb",
      "provenance": [],
      "collapsed_sections": []
    },
    "kernelspec": {
      "name": "python3",
      "display_name": "Python 3"
    },
    "language_info": {
      "name": "python"
    }
  },
  "cells": [
    {
      "cell_type": "code",
      "source": [
        "%%bash\n",
        "git clone https://github.com/ZhuoqunWang0120/cs671kaggle.git"
      ],
      "metadata": {
        "colab": {
          "base_uri": "https://localhost:8080/"
        },
        "id": "ZgIKBmvCFHpg",
        "outputId": "1de92c9c-3b42-4757-802c-c4cf82ed5850"
      },
      "execution_count": 2,
      "outputs": [
        {
          "output_type": "stream",
          "name": "stderr",
          "text": [
            "Cloning into 'cs671kaggle'...\n"
          ]
        }
      ]
    },
    {
      "cell_type": "code",
      "execution_count": 23,
      "metadata": {
        "id": "9op74HoUEZOc"
      },
      "outputs": [],
      "source": [
        "import matplotlib.pyplot as plt\n",
        "import os\n",
        "import pandas as pd\n",
        "from sklearn import preprocessing\n",
        "import numpy as np\n",
        "from sklearn.model_selection import RandomizedSearchCV, GridSearchCV, cross_val_score\n",
        "from sklearn.linear_model import RidgeClassifier, RidgeClassifierCV\n"
      ]
    },
    {
      "cell_type": "code",
      "source": [
        "os.chdir('./cs671kaggle')"
      ],
      "metadata": {
        "id": "gUo3AdXuEip_"
      },
      "execution_count": 4,
      "outputs": []
    },
    {
      "cell_type": "code",
      "source": [
        "train_data = pd.read_csv('data/train.csv')\n",
        "train_data = train_data.dropna()\n",
        "# drop id\n",
        "train_data = train_data.drop(columns = 'id')\n",
        "# transform age to age groups\n",
        "train_data.Age = list(map(lambda s: s[0], train_data.Age.astype('str')))\n",
        "# transform dtype of temperature\n",
        "train_data.Temperature = train_data.Temperature.astype('float')\n",
        "# one-hot encoding\n",
        "train_data = pd.get_dummies(train_data,dummy_na=False)"
      ],
      "metadata": {
        "id": "GJNNCKdqEtIV"
      },
      "execution_count": 5,
      "outputs": []
    },
    {
      "cell_type": "code",
      "source": [
        "Xtrain, ytrain = train_data.drop(columns = 'Decision'), train_data.Decision"
      ],
      "metadata": {
        "id": "UDD-qCovFM3O"
      },
      "execution_count": 6,
      "outputs": []
    },
    {
      "cell_type": "code",
      "source": [
        "clf = RidgeClassifier(random_state = 0)\n",
        "params = {'alpha': np.arange(0.01, 100, 1)}"
      ],
      "metadata": {
        "id": "UPkBbcrxGnQf"
      },
      "execution_count": 7,
      "outputs": []
    },
    {
      "cell_type": "code",
      "source": [
        "ridge_cv = GridSearchCV(\n",
        "    estimator = clf, \n",
        "    param_grid = params,\n",
        "    scoring='accuracy',\n",
        "    cv = 5, \n",
        "    verbose = True)"
      ],
      "metadata": {
        "id": "9YFFqXfpGup_"
      },
      "execution_count": 8,
      "outputs": []
    },
    {
      "cell_type": "code",
      "source": [
        "ridge_cv.fit(Xtrain, ytrain)"
      ],
      "metadata": {
        "colab": {
          "base_uri": "https://localhost:8080/"
        },
        "id": "kxpnuMWfHALM",
        "outputId": "e7fb6139-d5da-4a1e-e6a4-57f0c19cac14"
      },
      "execution_count": 9,
      "outputs": [
        {
          "output_type": "stream",
          "name": "stdout",
          "text": [
            "Fitting 5 folds for each of 100 candidates, totalling 500 fits\n"
          ]
        },
        {
          "output_type": "execute_result",
          "data": {
            "text/plain": [
              "GridSearchCV(cv=5, estimator=RidgeClassifier(random_state=0),\n",
              "             param_grid={'alpha': array([1.000e-02, 1.010e+00, 2.010e+00, 3.010e+00, 4.010e+00, 5.010e+00,\n",
              "       6.010e+00, 7.010e+00, 8.010e+00, 9.010e+00, 1.001e+01, 1.101e+01,\n",
              "       1.201e+01, 1.301e+01, 1.401e+01, 1.501e+01, 1.601e+01, 1.701e+01,\n",
              "       1.801e+01, 1.901e+01, 2.001e+01, 2.101e+01, 2.201e+01, 2.301e+01,\n",
              "       2.401e+01, 2.501e+01, 2.6...\n",
              "       6.601e+01, 6.701e+01, 6.801e+01, 6.901e+01, 7.001e+01, 7.101e+01,\n",
              "       7.201e+01, 7.301e+01, 7.401e+01, 7.501e+01, 7.601e+01, 7.701e+01,\n",
              "       7.801e+01, 7.901e+01, 8.001e+01, 8.101e+01, 8.201e+01, 8.301e+01,\n",
              "       8.401e+01, 8.501e+01, 8.601e+01, 8.701e+01, 8.801e+01, 8.901e+01,\n",
              "       9.001e+01, 9.101e+01, 9.201e+01, 9.301e+01, 9.401e+01, 9.501e+01,\n",
              "       9.601e+01, 9.701e+01, 9.801e+01, 9.901e+01])},\n",
              "             scoring='accuracy', verbose=True)"
            ]
          },
          "metadata": {},
          "execution_count": 9
        }
      ]
    },
    {
      "cell_type": "code",
      "source": [
        "print(ridge_cv.best_score_, ridge_cv.best_params_)"
      ],
      "metadata": {
        "colab": {
          "base_uri": "https://localhost:8080/"
        },
        "id": "BH0Oiw1-HMFp",
        "outputId": "b5382741-614c-4c96-cb54-f33f400b6171"
      },
      "execution_count": 10,
      "outputs": [
        {
          "output_type": "stream",
          "name": "stdout",
          "text": [
            "0.6882021553017046 {'alpha': 74.01}\n"
          ]
        }
      ]
    },
    {
      "cell_type": "code",
      "source": [
        "%%time\n",
        "ridge_final = RidgeClassifier(**ridge_cv.best_params_).fit(Xtrain, ytrain)"
      ],
      "metadata": {
        "colab": {
          "base_uri": "https://localhost:8080/"
        },
        "id": "fNEin8IrGZjs",
        "outputId": "c1b15598-f1be-4871-c31c-0c460369fd34"
      },
      "execution_count": 32,
      "outputs": [
        {
          "output_type": "stream",
          "name": "stdout",
          "text": [
            "CPU times: user 50.1 ms, sys: 10.8 ms, total: 60.8 ms\n",
            "Wall time: 61.1 ms\n"
          ]
        }
      ]
    },
    {
      "cell_type": "code",
      "source": [
        "np.mean(cross_val_score(RidgeClassifier(**ridge_cv.best_params_), Xtrain, ytrain, cv = 5, scoring = 'accuracy'))"
      ],
      "metadata": {
        "colab": {
          "base_uri": "https://localhost:8080/"
        },
        "id": "aKMNzBeDI1QX",
        "outputId": "b6f67f33-5c2b-49bf-ed74-2502f1a5ecb1"
      },
      "execution_count": 33,
      "outputs": [
        {
          "output_type": "execute_result",
          "data": {
            "text/plain": [
              "0.6882021553017046"
            ]
          },
          "metadata": {},
          "execution_count": 33
        }
      ]
    },
    {
      "cell_type": "code",
      "source": [
        "import pickle\n",
        "with open('ridge.pkl','wb') as f1:\n",
        "    pickle.dump(ridge_final,f1)"
      ],
      "metadata": {
        "id": "B9duTOFVI1hV"
      },
      "execution_count": 34,
      "outputs": []
    },
    {
      "cell_type": "code",
      "source": [
        "plt.plot(np.array(ridge_cv.cv_results_['param_alpha'], dtype = float), ridge_cv.cv_results_['mean_test_score'])\n",
        "plt.title('Hyperparameter tuning of ridge classifier')\n",
        "plt.xlabel('alpha')\n",
        "plt.ylabel('validation accuracy')\n",
        "pass"
      ],
      "metadata": {
        "colab": {
          "base_uri": "https://localhost:8080/",
          "height": 295
        },
        "id": "S4CMHU_gFDeu",
        "outputId": "2b015e2e-f9f8-4e22-86ca-f6708787170d"
      },
      "execution_count": 30,
      "outputs": [
        {
          "output_type": "display_data",
          "data": {
            "image/png": "[encoded data removed]",
            "text/plain": [
              "<Figure size 432x288 with 1 Axes>"
            ]
          },
          "metadata": {
            "needs_background": "light"
          }
        }
      ]
    },
    {
      "cell_type": "code",
      "source": [
        ""
      ],
      "metadata": {
        "id": "nVdxkCxBGRdz"
      },
      "execution_count": null,
      "outputs": []
    }
  ]
}