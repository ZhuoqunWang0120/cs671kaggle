{
  "nbformat": 4,
  "nbformat_minor": 0,
  "metadata": {
    "colab": {
      "name": "lightgbm.ipynb",
      "provenance": [],
      "collapsed_sections": []
    },
    "kernelspec": {
      "name": "python3",
      "display_name": "Python 3"
    },
    "language_info": {
      "name": "python"
    }
  },
  "cells": [
    {
      "cell_type": "code",
      "execution_count": null,
      "metadata": {
        "colab": {
          "base_uri": "https://localhost:8080/"
        },
        "id": "QyEM4c0btpg1",
        "outputId": "4f3a1ec5-c07c-4515-c158-8b17906b294b"
      },
      "outputs": [
        {
          "output_type": "stream",
          "name": "stderr",
          "text": [
            "Cloning into 'cs671kaggle'...\n"
          ]
        }
      ],
      "source": [
        "%%bash\n",
        "git clone https://github.com/ZhuoqunWang0120/cs671kaggle.git"
      ]
    },
    {
      "cell_type": "code",
      "source": [
        "import lightgbm\n",
        "import os\n",
        "import pandas as pd\n",
        "from sklearn import preprocessing\n",
        "import numpy as np\n",
        "from sklearn.model_selection import RandomizedSearchCV, GridSearchCV, cross_val_score\n",
        "import matplotlib.pyplot as plt\n"
      ],
      "metadata": {
        "id": "1jn4tR-Vtt0q"
      },
      "execution_count": 1,
      "outputs": []
    },
    {
      "cell_type": "code",
      "source": [
        "os.chdir('./cs671kaggle')"
      ],
      "metadata": {
        "id": "lQVTa8W6ttoe"
      },
      "execution_count": 2,
      "outputs": []
    },
    {
      "cell_type": "code",
      "source": [
        "train_data = pd.read_csv('data/train.csv')\n",
        "train_data = train_data.dropna()\n",
        "# drop id\n",
        "train_data = train_data.drop(columns = 'id')\n",
        "# transform age to age groups\n",
        "train_data.Age = list(map(lambda s: s[0], train_data.Age.astype('str')))\n",
        "# transform dtype of temperature\n",
        "train_data.Temperature = train_data.Temperature.astype('float')\n",
        "# one-hot encoding\n",
        "train_data = pd.get_dummies(train_data,dummy_na=False)"
      ],
      "metadata": {
        "id": "q7CuTyEst8Km"
      },
      "execution_count": 3,
      "outputs": []
    },
    {
      "cell_type": "code",
      "source": [
        "Xtrain, ytrain = train_data.drop(columns = 'Decision'), train_data.Decision"
      ],
      "metadata": {
        "id": "U51eZX8Ot9TA"
      },
      "execution_count": 4,
      "outputs": []
    },
    {
      "cell_type": "code",
      "source": [
        "params ={'num_leaves': np.arange(5, 50, 1), \n",
        "             'min_data_in_leaf': np.arange(10, 200, 10)\n",
        "}"
      ],
      "metadata": {
        "id": "x1nvNvoHwplC"
      },
      "execution_count": 5,
      "outputs": []
    },
    {
      "cell_type": "code",
      "source": [
        "clf = lightgbm.LGBMClassifier(max_depth = -1, random_state=0, silent=True, metric='None', n_estimators = 500)\n"
      ],
      "metadata": {
        "id": "QmqEViKGyhnd"
      },
      "execution_count": 6,
      "outputs": []
    },
    {
      "cell_type": "code",
      "source": [
        "lgb_cv = RandomizedSearchCV(\n",
        "    estimator = clf, \n",
        "    n_iter = 100,\n",
        "    param_distributions = params,\n",
        "    scoring='accuracy',\n",
        "    cv = 5, # 5fold\n",
        "    random_state = 0,\n",
        "    verbose = True)"
      ],
      "metadata": {
        "id": "aFlYu1cq2E_m"
      },
      "execution_count": 7,
      "outputs": []
    },
    {
      "cell_type": "code",
      "source": [
        "lgb_cv.fit(Xtrain, ytrain)"
      ],
      "metadata": {
        "colab": {
          "base_uri": "https://localhost:8080/"
        },
        "id": "VOyRW6pI2ags",
        "outputId": "93cfb027-a319-4587-a779-d51765f66c82"
      },
      "execution_count": 8,
      "outputs": [
        {
          "output_type": "stream",
          "name": "stdout",
          "text": [
            "Fitting 5 folds for each of 100 candidates, totalling 500 fits\n"
          ]
        },
        {
          "output_type": "execute_result",
          "data": {
            "text/plain": [
              "RandomizedSearchCV(cv=5,\n",
              "                   estimator=LGBMClassifier(metric='None', n_estimators=500,\n",
              "                                            random_state=0),\n",
              "                   n_iter=100,\n",
              "                   param_distributions={'min_data_in_leaf': array([ 10,  20,  30,  40,  50,  60,  70,  80,  90, 100, 110, 120, 130,\n",
              "       140, 150, 160, 170, 180, 190]),\n",
              "                                        'num_leaves': array([ 5,  6,  7,  8,  9, 10, 11, 12, 13, 14, 15, 16, 17, 18, 19, 20, 21,\n",
              "       22, 23, 24, 25, 26, 27, 28, 29, 30, 31, 32, 33, 34, 35, 36, 37, 38,\n",
              "       39, 40, 41, 42, 43, 44, 45, 46, 47, 48, 49])},\n",
              "                   random_state=0, scoring='accuracy', verbose=True)"
            ]
          },
          "metadata": {},
          "execution_count": 8
        }
      ]
    },
    {
      "cell_type": "code",
      "source": [
        "print(lgb_cv.best_params_, lgb_cv.best_score_)"
      ],
      "metadata": {
        "colab": {
          "base_uri": "https://localhost:8080/"
        },
        "id": "FCWrNc9e2azU",
        "outputId": "7aa58e9e-b006-4dcd-9f72-200ce261eec5"
      },
      "execution_count": 9,
      "outputs": [
        {
          "output_type": "stream",
          "name": "stdout",
          "text": [
            "{'num_leaves': 36, 'min_data_in_leaf': 70} 0.769532481633797\n"
          ]
        }
      ]
    },
    {
      "cell_type": "code",
      "source": [
        "%%time\n",
        "lgb_best = lgb_cv.best_estimator_.fit(Xtrain, ytrain)"
      ],
      "metadata": {
        "colab": {
          "base_uri": "https://localhost:8080/"
        },
        "id": "8t9JFof03MZs",
        "outputId": "d5ef34c9-ae21-4250-967c-59e50bb075b9"
      },
      "execution_count": 10,
      "outputs": [
        {
          "output_type": "stream",
          "name": "stdout",
          "text": [
            "CPU times: user 2.2 s, sys: 63.9 ms, total: 2.27 s\n",
            "Wall time: 1.19 s\n"
          ]
        }
      ]
    },
    {
      "cell_type": "code",
      "source": [
        "np.mean(cross_val_score(lgb_cv.best_estimator_, Xtrain, ytrain, cv = 5, scoring = 'accuracy'))"
      ],
      "metadata": {
        "colab": {
          "base_uri": "https://localhost:8080/"
        },
        "id": "KdG8_C8gCmcs",
        "outputId": "18de0377-cd58-402a-d92b-c2a79352d87a"
      },
      "execution_count": 11,
      "outputs": [
        {
          "output_type": "execute_result",
          "data": {
            "text/plain": [
              "0.769532481633797"
            ]
          },
          "metadata": {},
          "execution_count": 11
        }
      ]
    },
    {
      "cell_type": "code",
      "source": [
        "test_data = pd.read_csv('data/test.csv')\n",
        "test_data.Age = list(map(lambda s: s[0], test_data.Age.astype('str')))\n",
        "test_data.Temperature = test_data.Temperature.astype('float')\n",
        "Xtest = test_data.drop(columns = 'id')\n",
        "Xtest = pd.get_dummies(Xtest,dummy_na = False)"
      ],
      "metadata": {
        "id": "ade2Hl_z4Nm8"
      },
      "execution_count": 13,
      "outputs": []
    },
    {
      "cell_type": "code",
      "source": [
        "sub9 = pd.DataFrame({'id': test_data.id, 'Decision': lgb_best.predict(Xtest)})\n",
        "sub9.to_csv('sub9.csv',index=False, header='sub9')"
      ],
      "metadata": {
        "id": "LULRk4tv4NHL"
      },
      "execution_count": 17,
      "outputs": []
    },
    {
      "cell_type": "code",
      "source": [
        "import pickle\n",
        "with open('lightgbm_sub9.pkl','wb') as f1:\n",
        "    pickle.dump(lgb_best,f1)\n",
        "with open('lightgbm_cv_sub9.pkl','wb') as f2:\n",
        "    pickle.dump(lgb_cv,f2)"
      ],
      "metadata": {
        "id": "-XpB5fPn_wnX"
      },
      "execution_count": 18,
      "outputs": []
    },
    {
      "cell_type": "code",
      "source": [
        "plt.scatter(np.array(lgb_cv.cv_results_['param_num_leaves'], dtype = float), lgb_cv.cv_results_['mean_test_score'])\n",
        "plt.title('Hyperparameter tuning of LightGBM classifier - num_leaves')\n",
        "plt.xlabel('num_leaves')\n",
        "plt.ylabel('validation accuracy')\n",
        "pass"
      ],
      "metadata": {
        "colab": {
          "base_uri": "https://localhost:8080/",
          "height": 296
        },
        "id": "JgQZ-eu_Ii2q",
        "outputId": "16f6b8bd-df19-4de7-d245-611725013978"
      },
      "execution_count": 37,
      "outputs": [
        {
          "output_type": "display_data",
          "data": {
            "image/png": "[encoded data removed]",
            "text/plain": [
              "<Figure size 432x288 with 1 Axes>"
            ]
          },
          "metadata": {
            "needs_background": "light"
          }
        }
      ]
    },
    {
      "cell_type": "code",
      "source": [
        "plt.scatter(np.array(lgb_cv.cv_results_['param_min_data_in_leaf'], dtype = float), lgb_cv.cv_results_['mean_test_score'])\n",
        "plt.title('Hyperparameter tuning of LightGBM classifier - min_data_in_leaf')\n",
        "plt.xlabel('min_data_in_leaf')\n",
        "plt.ylabel('validation accuracy')\n",
        "pass"
      ],
      "metadata": {
        "colab": {
          "base_uri": "https://localhost:8080/",
          "height": 296
        },
        "id": "t9Ef4oziIxO8",
        "outputId": "e2f84b11-a934-41e4-dc5c-b4965a707494"
      },
      "execution_count": 38,
      "outputs": [
        {
          "output_type": "display_data",
          "data": {
            "image/png": "[encoded data removed]",
            "text/plain": [
              "<Figure size 432x288 with 1 Axes>"
            ]
          },
          "metadata": {
            "needs_background": "light"
          }
        }
      ]
    },
    {
      "cell_type": "code",
      "source": [
        ""
      ],
      "metadata": {
        "id": "wJUplbXpJ7cT"
      },
      "execution_count": null,
      "outputs": []
    }
  ]
}