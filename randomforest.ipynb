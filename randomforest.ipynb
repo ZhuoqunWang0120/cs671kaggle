{
  "nbformat": 4,
  "nbformat_minor": 0,
  "metadata": {
    "colab": {
      "name": "randomforest.ipynb",
      "provenance": [],
      "collapsed_sections": []
    },
    "kernelspec": {
      "name": "python3",
      "display_name": "Python 3"
    },
    "language_info": {
      "name": "python"
    }
  },
  "cells": [
    {
      "cell_type": "code",
      "source": [
        "%%bash\n",
        "git clone https://github.com/ZhuoqunWang0120/cs671kaggle.git"
      ],
      "metadata": {
        "colab": {
          "base_uri": "https://localhost:8080/"
        },
        "id": "2MCLZvBINz2A",
        "outputId": "1eda74b0-b7f9-429a-d410-eee9b3f95b23"
      },
      "execution_count": 5,
      "outputs": [
        {
          "output_type": "stream",
          "name": "stderr",
          "text": [
            "Cloning into 'cs671kaggle'...\n"
          ]
        }
      ]
    },
    {
      "cell_type": "code",
      "execution_count": 20,
      "metadata": {
        "id": "SJrSHEWhNpxp"
      },
      "outputs": [],
      "source": [
        "import os\n",
        "import matplotlib.pyplot as plt\n",
        "import pandas as pd\n",
        "from sklearn import preprocessing\n",
        "import numpy as np\n",
        "from sklearn.model_selection import RandomizedSearchCV, GridSearchCV, cross_val_score\n",
        "from sklearn.ensemble import RandomForestClassifier"
      ]
    },
    {
      "cell_type": "code",
      "source": [
        "os.listdir()"
      ],
      "metadata": {
        "colab": {
          "base_uri": "https://localhost:8080/"
        },
        "id": "SKwDWTq3DOmH",
        "outputId": "9933c4c8-896f-451e-e021-b4c9b07a91c2"
      },
      "execution_count": 7,
      "outputs": [
        {
          "output_type": "execute_result",
          "data": {
            "text/plain": [
              "['.config', 'cs671kaggle', 'sample_data']"
            ]
          },
          "metadata": {},
          "execution_count": 7
        }
      ]
    },
    {
      "cell_type": "code",
      "source": [
        "os.chdir('./cs671kaggle')"
      ],
      "metadata": {
        "id": "3jrS02InN2CW"
      },
      "execution_count": 8,
      "outputs": []
    },
    {
      "cell_type": "code",
      "source": [
        "train_data = pd.read_csv('data/train.csv')\n",
        "train_data = train_data.dropna()\n",
        "# drop id\n",
        "train_data = train_data.drop(columns = 'id')\n",
        "# transform age to age groups\n",
        "train_data.Age = list(map(lambda s: s[0], train_data.Age.astype('str')))\n",
        "# transform dtype of temperature\n",
        "train_data.Temperature = train_data.Temperature.astype('float')\n",
        "# one-hot encoding\n",
        "train_data = pd.get_dummies(train_data,dummy_na=False)\n",
        "Xtrain, ytrain = train_data.drop(columns = 'Decision'), train_data.Decision"
      ],
      "metadata": {
        "id": "497h2En8N3wx"
      },
      "execution_count": 9,
      "outputs": []
    },
    {
      "cell_type": "code",
      "source": [
        "clf = RandomForestClassifier(random_state=0, max_features = 'auto')\n",
        "params = {'n_estimators': np.arange(10, 200, 10)}"
      ],
      "metadata": {
        "id": "OBtlCCkTOF-p"
      },
      "execution_count": 15,
      "outputs": []
    },
    {
      "cell_type": "code",
      "source": [
        "rf_cv = GridSearchCV(\n",
        "    estimator = clf, \n",
        "    param_grid = params,\n",
        "    scoring='accuracy',\n",
        "    cv = 5, \n",
        "    verbose = True)"
      ],
      "metadata": {
        "id": "gPvjMI_rDhb8"
      },
      "execution_count": 16,
      "outputs": []
    },
    {
      "cell_type": "code",
      "source": [
        "rf_cv.fit(Xtrain, ytrain)"
      ],
      "metadata": {
        "colab": {
          "base_uri": "https://localhost:8080/"
        },
        "id": "KJ_AEFU9EVwi",
        "outputId": "d70d911c-fcc4-4ec3-a878-840a25bb7519"
      },
      "execution_count": 17,
      "outputs": [
        {
          "output_type": "stream",
          "name": "stdout",
          "text": [
            "Fitting 5 folds for each of 19 candidates, totalling 95 fits\n"
          ]
        },
        {
          "output_type": "execute_result",
          "data": {
            "text/plain": [
              "GridSearchCV(cv=5, estimator=RandomForestClassifier(random_state=0),\n",
              "             param_grid={'n_estimators': array([ 10,  20,  30,  40,  50,  60,  70,  80,  90, 100, 110, 120, 130,\n",
              "       140, 150, 160, 170, 180, 190])},\n",
              "             scoring='accuracy', verbose=True)"
            ]
          },
          "metadata": {},
          "execution_count": 17
        }
      ]
    },
    {
      "cell_type": "code",
      "source": [
        "plt.plot(np.array(rf_cv.cv_results_['param_n_estimators'], dtype = float), rf_cv.cv_results_['mean_test_score'])\n",
        "plt.title('Hyperparameter tuning of random forest classifier')\n",
        "plt.xlabel('number of trees')\n",
        "plt.ylabel('validation accuracy')\n",
        "pass"
      ],
      "metadata": {
        "colab": {
          "base_uri": "https://localhost:8080/",
          "height": 295
        },
        "id": "7UlDpyhPEdDo",
        "outputId": "e977a059-823d-4b28-96bc-dcab0ec18159"
      },
      "execution_count": 22,
      "outputs": [
        {
          "output_type": "display_data",
          "data": {
            "image/png": "[encoded data removed]",
            "text/plain": [
              "<Figure size 432x288 with 1 Axes>"
            ]
          },
          "metadata": {
            "needs_background": "light"
          }
        }
      ]
    },
    {
      "cell_type": "code",
      "source": [
        "%%time\n",
        "rf_final = RandomForestClassifier(**rf_cv.best_params_).fit(Xtrain, ytrain)"
      ],
      "metadata": {
        "colab": {
          "base_uri": "https://localhost:8080/"
        },
        "id": "92jRMNKFHSq2",
        "outputId": "5834e6e6-d2a3-4877-d37e-a19d9778b661"
      },
      "execution_count": 23,
      "outputs": [
        {
          "output_type": "stream",
          "name": "stdout",
          "text": [
            "CPU times: user 1.76 s, sys: 21.1 ms, total: 1.78 s\n",
            "Wall time: 1.79 s\n"
          ]
        }
      ]
    },
    {
      "cell_type": "code",
      "source": [
        "np.mean(cross_val_score(RandomForestClassifier(**rf_cv.best_params_), Xtrain, ytrain, cv = 5, scoring = 'accuracy'))"
      ],
      "metadata": {
        "colab": {
          "base_uri": "https://localhost:8080/"
        },
        "id": "yj1p42W1HUJ2",
        "outputId": "7afa4443-a42a-4f66-cb3a-12ef02702ad1"
      },
      "execution_count": 24,
      "outputs": [
        {
          "output_type": "execute_result",
          "data": {
            "text/plain": [
              "0.7515742269518736"
            ]
          },
          "metadata": {},
          "execution_count": 24
        }
      ]
    },
    {
      "cell_type": "code",
      "source": [
        "import pickle\n",
        "with open('rf.pkl','wb') as f1:\n",
        "    pickle.dump(rf_final,f1)\n",
        "with open('rf_cv.pkl','wb') as f2:\n",
        "    pickle.dump(rf_cv,f2)"
      ],
      "metadata": {
        "id": "eWGEgauOMtR0"
      },
      "execution_count": 25,
      "outputs": []
    },
    {
      "cell_type": "code",
      "source": [
        ""
      ],
      "metadata": {
        "id": "uhGCIuWNNH2n"
      },
      "execution_count": null,
      "outputs": []
    }
  ]
}